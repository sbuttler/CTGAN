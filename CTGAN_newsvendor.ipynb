{
  "nbformat": 4,
  "nbformat_minor": 0,
  "metadata": {
    "colab": {
      "name": "CTGAN_newsvendor.ipynb",
      "provenance": [],
      "toc_visible": true,
      "authorship_tag": "ABX9TyNDWecLbSKkJbSaRZ7gWxZw",
      "include_colab_link": true
    },
    "kernelspec": {
      "name": "python3",
      "display_name": "Python 3"
    },
    "accelerator": "GPU"
  },
  "cells": [
    {
      "cell_type": "markdown",
      "metadata": {
        "id": "view-in-github",
        "colab_type": "text"
      },
      "source": [
        "<a href=\"https://colab.research.google.com/github/sbuttler/CTGAN/blob/master/CTGAN_newsvendor.ipynb\" target=\"_parent\"><img src=\"https://colab.research.google.com/assets/colab-badge.svg\" alt=\"Open In Colab\"/></a>"
      ]
    },
    {
      "cell_type": "code",
      "metadata": {
        "id": "wqKMQFgWUzl_",
        "colab_type": "code",
        "colab": {
          "base_uri": "https://localhost:8080/",
          "height": 602
        },
        "outputId": "983d8730-330f-4145-d24f-f3b433efc428"
      },
      "source": [
        "!pip install --upgrade git+git://github.com/sbuttler/CTGAN.git"
      ],
      "execution_count": 2,
      "outputs": [
        {
          "output_type": "stream",
          "text": [
            "Collecting git+git://github.com/sbuttler/CTGAN.git\n",
            "  Cloning git://github.com/sbuttler/CTGAN.git to /tmp/pip-req-build-x3agto68\n",
            "  Running command git clone -q git://github.com/sbuttler/CTGAN.git /tmp/pip-req-build-x3agto68\n",
            "Requirement already satisfied, skipping upgrade: torch<2,>=1.0 in /usr/local/lib/python3.6/dist-packages (from ctgan==0.2.2.dev0) (1.5.1+cu101)\n",
            "Requirement already satisfied, skipping upgrade: torchvision<1,>=0.4.2 in /usr/local/lib/python3.6/dist-packages (from ctgan==0.2.2.dev0) (0.6.1+cu101)\n",
            "Requirement already satisfied, skipping upgrade: scikit-learn<0.23,>=0.21 in /usr/local/lib/python3.6/dist-packages (from ctgan==0.2.2.dev0) (0.22.2.post1)\n",
            "Requirement already satisfied, skipping upgrade: numpy<2,>=1.17.4 in /usr/local/lib/python3.6/dist-packages (from ctgan==0.2.2.dev0) (1.18.5)\n",
            "Collecting pandas<0.26,>=0.24\n",
            "\u001b[?25l  Downloading https://files.pythonhosted.org/packages/52/3f/f6a428599e0d4497e1595030965b5ba455fd8ade6e977e3c819973c4b41d/pandas-0.25.3-cp36-cp36m-manylinux1_x86_64.whl (10.4MB)\n",
            "\u001b[K     |████████████████████████████████| 10.4MB 2.8MB/s \n",
            "\u001b[?25hRequirement already satisfied, skipping upgrade: future in /usr/local/lib/python3.6/dist-packages (from torch<2,>=1.0->ctgan==0.2.2.dev0) (0.16.0)\n",
            "Requirement already satisfied, skipping upgrade: pillow>=4.1.1 in /usr/local/lib/python3.6/dist-packages (from torchvision<1,>=0.4.2->ctgan==0.2.2.dev0) (7.0.0)\n",
            "Requirement already satisfied, skipping upgrade: scipy>=0.17.0 in /usr/local/lib/python3.6/dist-packages (from scikit-learn<0.23,>=0.21->ctgan==0.2.2.dev0) (1.4.1)\n",
            "Requirement already satisfied, skipping upgrade: joblib>=0.11 in /usr/local/lib/python3.6/dist-packages (from scikit-learn<0.23,>=0.21->ctgan==0.2.2.dev0) (0.15.1)\n",
            "Requirement already satisfied, skipping upgrade: python-dateutil>=2.6.1 in /usr/local/lib/python3.6/dist-packages (from pandas<0.26,>=0.24->ctgan==0.2.2.dev0) (2.8.1)\n",
            "Requirement already satisfied, skipping upgrade: pytz>=2017.2 in /usr/local/lib/python3.6/dist-packages (from pandas<0.26,>=0.24->ctgan==0.2.2.dev0) (2018.9)\n",
            "Requirement already satisfied, skipping upgrade: six>=1.5 in /usr/local/lib/python3.6/dist-packages (from python-dateutil>=2.6.1->pandas<0.26,>=0.24->ctgan==0.2.2.dev0) (1.12.0)\n",
            "Building wheels for collected packages: ctgan\n",
            "  Building wheel for ctgan (setup.py) ... \u001b[?25l\u001b[?25hdone\n",
            "  Created wheel for ctgan: filename=ctgan-0.2.2.dev0-py2.py3-none-any.whl size=16895 sha256=f0e90d295d0f9b20bf401d505125695912cb20e6bf8c68b868a190ea322d2959\n",
            "  Stored in directory: /tmp/pip-ephem-wheel-cache-16s15h6x/wheels/bd/ca/1b/42c278860383ea89e8773b12b0789d226d3b1c5c29921fc76c\n",
            "Successfully built ctgan\n",
            "\u001b[31mERROR: google-colab 1.0.0 has requirement pandas~=1.0.0; python_version >= \"3.0\", but you'll have pandas 0.25.3 which is incompatible.\u001b[0m\n",
            "Installing collected packages: pandas, ctgan\n",
            "  Found existing installation: pandas 1.0.5\n",
            "    Uninstalling pandas-1.0.5:\n",
            "      Successfully uninstalled pandas-1.0.5\n",
            "Successfully installed ctgan-0.2.2.dev0 pandas-0.25.3\n"
          ],
          "name": "stdout"
        },
        {
          "output_type": "display_data",
          "data": {
            "application/vnd.colab-display-data+json": {
              "pip_warning": {
                "packages": [
                  "pandas"
                ]
              }
            }
          },
          "metadata": {
            "tags": []
          }
        }
      ]
    },
    {
      "cell_type": "code",
      "metadata": {
        "id": "fCQGAqWZXpLW",
        "colab_type": "code",
        "colab": {
          "base_uri": "https://localhost:8080/",
          "height": 319
        },
        "outputId": "40617938-f59a-4fe1-e85f-0b5e0448d518"
      },
      "source": [
        "!pip install pulp"
      ],
      "execution_count": 1,
      "outputs": [
        {
          "output_type": "stream",
          "text": [
            "Collecting pulp\n",
            "\u001b[?25l  Downloading https://files.pythonhosted.org/packages/16/c8/cdb6e4c47c775e837f6f1a26162963440b7f9d47d01dcb92ce712d5eecb9/PuLP-2.2-py3-none-any.whl (40.6MB)\n",
            "\u001b[K     |████████████████████████████████| 40.6MB 81kB/s \n",
            "\u001b[?25hCollecting amply>=0.1.2\n",
            "  Downloading https://files.pythonhosted.org/packages/7f/11/33cb09557ac838d9488779b79e05a2a3c1f3ce9747cd242ba68332736778/amply-0.1.2.tar.gz\n",
            "  Installing build dependencies ... \u001b[?25l\u001b[?25hdone\n",
            "  Getting requirements to build wheel ... \u001b[?25l\u001b[?25hdone\n",
            "    Preparing wheel metadata ... \u001b[?25l\u001b[?25hdone\n",
            "Requirement already satisfied: pyparsing in /usr/local/lib/python3.6/dist-packages (from amply>=0.1.2->pulp) (2.4.7)\n",
            "Requirement already satisfied: docutils>=0.3 in /usr/local/lib/python3.6/dist-packages (from amply>=0.1.2->pulp) (0.15.2)\n",
            "Building wheels for collected packages: amply\n",
            "  Building wheel for amply (PEP 517) ... \u001b[?25l\u001b[?25hdone\n",
            "  Created wheel for amply: filename=amply-0.1.2-cp36-none-any.whl size=16572 sha256=7476491fce040d4482079d328d3287b104c54a5591b0c09e1317138e42ca110a\n",
            "  Stored in directory: /root/.cache/pip/wheels/84/18/f7/e5c3ed13ed5bb721763f77d4a924331d59ef115ce61c9d26eb\n",
            "Successfully built amply\n",
            "Installing collected packages: amply, pulp\n",
            "Successfully installed amply-0.1.2 pulp-2.2\n"
          ],
          "name": "stdout"
        }
      ]
    },
    {
      "cell_type": "code",
      "metadata": {
        "id": "mZ4Ujx3TU7VC",
        "colab_type": "code",
        "colab": {}
      },
      "source": [
        "import pandas as pd\n",
        "import pickle\n",
        "import numpy as np\n",
        "\n",
        "import itertools\n",
        "import timeit\n",
        "\n",
        "import ctgan.synthesizer as ctgan\n",
        "from sklearn.preprocessing import MinMaxScaler\n",
        "\n",
        "import torch\n",
        "\n",
        "#from ddop.datasets.load_datasets import load_data\n",
        "#from ddop.newsvendor import EmpiricalRiskMinimizationNewsvendor\n",
        "#from ddop.metrics.costs import calc_costs, calc_total_costs, calc_avg_costs\n",
        "\n",
        "from sklearn.model_selection import train_test_split\n",
        "import lightgbm as lgb\n",
        "\n",
        "import pulp\n",
        "\n",
        "import multiprocessing as mp\n",
        "from functools import partial\n",
        "import itertools"
      ],
      "execution_count": 17,
      "outputs": []
    },
    {
      "cell_type": "code",
      "metadata": {
        "id": "2VFDqF8nU93B",
        "colab_type": "code",
        "colab": {
          "base_uri": "https://localhost:8080/",
          "height": 126
        },
        "outputId": "bc5180ed-1c49-4688-db11-e896a3439bba"
      },
      "source": [
        "from google.colab import drive\n",
        "drive.mount('/content/drive')"
      ],
      "execution_count": 6,
      "outputs": [
        {
          "output_type": "stream",
          "text": [
            "Go to this URL in a browser: https://accounts.google.com/o/oauth2/auth?client_id=947318989803-6bn6qk8qdgf4n4g3pfee6491hc0brc4i.apps.googleusercontent.com&redirect_uri=urn%3aietf%3awg%3aoauth%3a2.0%3aoob&response_type=code&scope=email%20https%3a%2f%2fwww.googleapis.com%2fauth%2fdocs.test%20https%3a%2f%2fwww.googleapis.com%2fauth%2fdrive%20https%3a%2f%2fwww.googleapis.com%2fauth%2fdrive.photos.readonly%20https%3a%2f%2fwww.googleapis.com%2fauth%2fpeopleapi.readonly\n",
            "\n",
            "Enter your authorization code:\n",
            "··········\n",
            "Mounted at /content/drive\n"
          ],
          "name": "stdout"
        }
      ]
    },
    {
      "cell_type": "code",
      "metadata": {
        "id": "outDkMy1WeyU",
        "colab_type": "code",
        "colab": {}
      },
      "source": [
        "model_path = '/content/drive/My Drive/GANs/'"
      ],
      "execution_count": 7,
      "outputs": []
    },
    {
      "cell_type": "code",
      "metadata": {
        "id": "GqdOpX2LVAi4",
        "colab_type": "code",
        "colab": {
          "base_uri": "https://localhost:8080/",
          "height": 35
        },
        "outputId": "801fbc83-3662-44a0-aaa0-9d672d33503a"
      },
      "source": [
        "demand = 'demand'\n",
        "\n",
        "train = pd.read_pickle('/content/drive/My Drive/GANs/Data/20200629_train_FilNr2_ArtNr110_all_cols')\n",
        "train.drop(columns=['Filiale', 'Artikel', 'WGruppe', 'time_index'], axis=1, inplace=True)\n",
        "X_train = train.drop(columns=[demand])\n",
        "Y_train = train[demand]\n",
        "\n",
        "val = pd.read_pickle('/content/drive/My Drive/GANs/Data/20200629_val_FilNr2_ArtNr110_all_cols')\n",
        "val.drop(columns=['Filiale', 'Artikel', 'WGruppe', 'time_index'], axis=1, inplace=True)\n",
        "X_val = val.drop(columns=[demand])\n",
        "Y_val = val[demand]\n",
        "\n",
        "test = pd.read_pickle('/content/drive/My Drive/GANs/Data/20200629_test_FilNr2_ArtNr110_all_cols')\n",
        "test.drop(columns=['Filiale', 'Artikel', 'WGruppe', 'time_index'], axis=1, inplace=True)\n",
        "X_test = test.drop(columns=[demand])\n",
        "Y_test = test[demand]\n",
        "\n",
        "scaler = MinMaxScaler()\n",
        "scaler.fit(train)"
      ],
      "execution_count": 8,
      "outputs": [
        {
          "output_type": "execute_result",
          "data": {
            "text/plain": [
              "MinMaxScaler(copy=True, feature_range=(0, 1))"
            ]
          },
          "metadata": {
            "tags": []
          },
          "execution_count": 8
        }
      ]
    },
    {
      "cell_type": "code",
      "metadata": {
        "id": "6wxHuN0nVoqv",
        "colab_type": "code",
        "colab": {}
      },
      "source": [
        "# Define dataframe to store solution\n",
        "\n",
        "service_levels = [x/100 for x in range(5, 100, 5)]\n",
        "\n",
        "result = pd.DataFrame(index=service_levels, columns=['cost_val_solution', 'cost_test_solution', 'GAN_model_parameters'])\n",
        "\n",
        "result['cost_val_solution'] = np.inf\n",
        "result['cost_test_solution'] = np.inf"
      ],
      "execution_count": 49,
      "outputs": []
    },
    {
      "cell_type": "markdown",
      "metadata": {
        "id": "OdeqkR6YVcW_",
        "colab_type": "text"
      },
      "source": [
        "# GAN parameters"
      ]
    },
    {
      "cell_type": "code",
      "metadata": {
        "id": "PCewpQjpVSWQ",
        "colab_type": "code",
        "colab": {}
      },
      "source": [
        "epochs = [5]\n",
        "#epochs = [5, 10, 50, 100]\n",
        "batchsize = [30, 60, 130]\n",
        "learning_rate = [1e-5, 5e-5, 1e-6]\n",
        "\n",
        "training_repetition = 1"
      ],
      "execution_count": 10,
      "outputs": []
    },
    {
      "cell_type": "markdown",
      "metadata": {
        "id": "7Yz_bHt6ViVH",
        "colab_type": "text"
      },
      "source": [
        "# Function definitions"
      ]
    },
    {
      "cell_type": "code",
      "metadata": {
        "id": "FbppfrlSVks5",
        "colab_type": "code",
        "colab": {}
      },
      "source": [
        "def solve_newsvendor(demand_data, weights, sl):\n",
        "    # set service level\n",
        "    c_u = sl\n",
        "    c_o = 1 - sl\n",
        "    \n",
        "    print('started newsvendor')\n",
        "\n",
        "    sample_index = np.arange(demand_data.shape[0])\n",
        "    \n",
        "    demand = dict(zip(sample_index, demand_data))\n",
        "    weights = dict(zip(sample_index, weights))\n",
        "\n",
        "    m = pulp.LpProblem(sense=pulp.LpMinimize)\n",
        "\n",
        "    # add variables\n",
        "    q = pulp.LpVariable('q', lowBound=0)\n",
        "\n",
        "    u = pulp.LpVariable.dicts('u', sample_index, lowBound=0)\n",
        "    o = pulp.LpVariable.dicts('o', sample_index, lowBound=0)\n",
        "\n",
        "\n",
        "    # set objective\n",
        "\n",
        "    m += (sum(c_u*u[i]*weights[i] for i in sample_index) + sum(c_o * o[i]*weights[i] for i in sample_index))\n",
        "\n",
        "    # add constraints\n",
        "    for i in sample_index:\n",
        "\n",
        "      m += u[i] >= demand[i] - q\n",
        "      m += o[i] >= q - demand[i]\n",
        "    \n",
        "    m.solve()\n",
        "    \n",
        "    return q.value()"
      ],
      "execution_count": 11,
      "outputs": []
    },
    {
      "cell_type": "code",
      "metadata": {
        "id": "JIytiaHOVsNY",
        "colab_type": "code",
        "colab": {}
      },
      "source": [
        "def compute_lightGBM_wSAA_weights(sl, gbm, X_train, Y_train, val_x):\n",
        "    \n",
        "    print(\"compute light GBM wSAA\")\n",
        "    # Predict test data\n",
        "    predLeafs = gbm.predict(val_x, pred_leaf=True)\n",
        "\n",
        "    # Calculate weights based on training data\n",
        "    predLeafsTrain = gbm.predict(X_train, pred_leaf=True)\n",
        "    elemInLeafs = np.sum(predLeafsTrain == predLeafs, axis=0)\n",
        "    treeWeights = (predLeafsTrain == predLeafs)/elemInLeafs\n",
        "    weights = np.sum(treeWeights, axis=1)/predLeafs.shape[1]\n",
        "    \n",
        "    # Optimize\n",
        "    q = solve_newsvendor(Y_train, weights, sl)\n",
        "\n",
        "    return q"
      ],
      "execution_count": 21,
      "outputs": []
    },
    {
      "cell_type": "code",
      "metadata": {
        "id": "q8xMgoQJVwin",
        "colab_type": "code",
        "colab": {}
      },
      "source": [
        "def compute_lightGBM_wSAA(sl, train_X, train_Y, eval_X, eval_Y, test_eval_X):\n",
        "    \n",
        "    \n",
        "    print('fit lightGBM model')\n",
        "    \n",
        "    # fit lightGBM model\n",
        "    trainingData = lgb.Dataset(train_X, train_Y)\n",
        "    evalData = lgb.Dataset(eval_X, eval_Y)\n",
        "\n",
        "    param = {'objective': 'regression'}\n",
        "\n",
        "    num_round = 1000\n",
        "\n",
        "    # fitting model \n",
        "    gbm = lgb.train(\n",
        "        param,\n",
        "        trainingData,\n",
        "        num_round,\n",
        "        valid_sets=evalData,\n",
        "        early_stopping_rounds=10,\n",
        "        verbose_eval=100\n",
        "    )\n",
        "    \n",
        "       \n",
        "    wSAA_function = partial(compute_lightGBM_wSAA_weights, sl, gbm, train_X, train_Y)\n",
        "    \n",
        "    q = test_eval_X.apply(wSAA_function, axis=1)\n",
        "    \n",
        "    return q"
      ],
      "execution_count": 13,
      "outputs": []
    },
    {
      "cell_type": "code",
      "metadata": {
        "id": "Kd7WCZ8NV44-",
        "colab_type": "code",
        "colab": {}
      },
      "source": [
        "def newsvendor_total_cost(y_pred, y_true, sl):\n",
        "    \n",
        "    total_cost = 0\n",
        "    \n",
        "    # set service level\n",
        "    c_u = sl\n",
        "    c_o = 1 - sl\n",
        "    \n",
        "    for i in range(y_pred.shape[0]):\n",
        "        \n",
        "        if y_pred[i] > y_true[i]:\n",
        "            \n",
        "            total_cost += (y_pred[i]-y_true[i])*c_o\n",
        "            \n",
        "        if y_pred[i] < y_true[i]:\n",
        "            \n",
        "            total_cost += (y_true[i]-y_pred[i])*c_u\n",
        "    \n",
        "    return total_cost"
      ],
      "execution_count": 14,
      "outputs": []
    },
    {
      "cell_type": "code",
      "metadata": {
        "id": "jelQuS4xV_5N",
        "colab_type": "code",
        "colab": {}
      },
      "source": [
        "def lightGBM_wSAA_cost(gan_params, train_X, train_Y, eval_X, eval_Y, test_eval_X, test_eval_Y, sl):\n",
        "    \n",
        "    y_pred = compute_lightGBM_wSAA(sl, train_X, train_Y, eval_X, eval_Y, test_eval_X)\n",
        "    \n",
        "    y_true = test_eval_Y\n",
        "\n",
        "    y_pred.reset_index(inplace=True, drop=True)\n",
        "    y_true.reset_index(inplace=True, drop=True)\n",
        "    \n",
        "    return (sl, [newsvendor_total_cost(y_pred, y_true, sl), gan_params])"
      ],
      "execution_count": 28,
      "outputs": []
    },
    {
      "cell_type": "markdown",
      "metadata": {
        "id": "BpBDlYgVWWeI",
        "colab_type": "text"
      },
      "source": [
        "# Test with one GAN and small sample size"
      ]
    },
    {
      "cell_type": "code",
      "metadata": {
        "id": "1lopbbQQWVv-",
        "colab_type": "code",
        "colab": {
          "base_uri": "https://localhost:8080/",
          "height": 35
        },
        "outputId": "140386e2-7588-4c1c-8134-7f55ecbcb19f"
      },
      "source": [
        "service_levels = [0.7]\n",
        "\n",
        "e = 5\n",
        "bs = 30\n",
        "lr = 1e-5\n",
        "i = 1\n",
        "\n",
        "p_gan = str(i)+\"_e\"+str(e)+\"_b\"+str(bs)+\"_l\"+str(lr)\n",
        "\n",
        "gan = torch.load(model_path+\"ctgan_model_\"+str(i)+\"_e\"+str(e)+\"_b\"+str(bs)+\"_l\"+str(lr))\n",
        "\n",
        "print('sample')\n",
        "sample_sc = gan.sample(1000000, seed=0)\n",
        "sample = pd.DataFrame(scaler.inverse_transform(sample_sc), columns=sample_sc.columns)\n",
        "\n",
        "print('finished')\n",
        "X = sample.drop(columns=[demand])\n",
        "Y = sample[demand]\n",
        "\n",
        "X_train_gan, X_val_gan, Y_train_gan, Y_val_gan = train_test_split(X, Y, test_size=0.2, random_state=99)\n",
        "        \n",
        "pool_function = partial(lightGBM_wSAA_cost, p_gan, X_train_gan, Y_train_gan,  X_val_gan, Y_val_gan, X_val, Y_val)\n",
        "\n",
        "print('open pool')\n",
        "#agents = mp.cpu_count()\n",
        "agents = len(service_levels)\n",
        "pool = mp.Pool(agents)\n",
        "\n",
        "pool_output = pool.map(pool_function, service_levels)\n",
        "\n",
        "pool.close()\n",
        "\n",
        "pool_output = dict(pool_output)\n",
        "\n",
        "print(pool_output)\n",
        "\n",
        "for sl in service_levels:\n",
        "      \n",
        "  val_cost = pool_output.get(sl)[0]\n",
        "  parameters = pool_output.get(sl)[1]\n",
        "  \n",
        "  if val_cost < result.loc[sl,'cost_val_solution']:\n",
        "        \n",
        "    result.loc[sl,'cost_val_solution'] = val_cost\n",
        "    result.loc[sl, 'GAN_model_parameters'] = parameters\n",
        "    print('test')\n"
      ],
      "execution_count": null,
      "outputs": [
        {
          "output_type": "stream",
          "text": [
            "sample\n"
          ],
          "name": "stdout"
        }
      ]
    },
    {
      "cell_type": "code",
      "metadata": {
        "id": "yM64z-HZe05t",
        "colab_type": "code",
        "colab": {
          "base_uri": "https://localhost:8080/",
          "height": 625
        },
        "outputId": "4f55459d-c946-488d-de8c-2622992b6fda"
      },
      "source": [
        "result"
      ],
      "execution_count": 51,
      "outputs": [
        {
          "output_type": "execute_result",
          "data": {
            "text/html": [
              "<div>\n",
              "<style scoped>\n",
              "    .dataframe tbody tr th:only-of-type {\n",
              "        vertical-align: middle;\n",
              "    }\n",
              "\n",
              "    .dataframe tbody tr th {\n",
              "        vertical-align: top;\n",
              "    }\n",
              "\n",
              "    .dataframe thead th {\n",
              "        text-align: right;\n",
              "    }\n",
              "</style>\n",
              "<table border=\"1\" class=\"dataframe\">\n",
              "  <thead>\n",
              "    <tr style=\"text-align: right;\">\n",
              "      <th></th>\n",
              "      <th>cost_val_solution</th>\n",
              "      <th>cost_test_solution</th>\n",
              "      <th>GAN_model_parameters</th>\n",
              "    </tr>\n",
              "  </thead>\n",
              "  <tbody>\n",
              "    <tr>\n",
              "      <th>0.05</th>\n",
              "      <td>inf</td>\n",
              "      <td>inf</td>\n",
              "      <td>NaN</td>\n",
              "    </tr>\n",
              "    <tr>\n",
              "      <th>0.10</th>\n",
              "      <td>inf</td>\n",
              "      <td>inf</td>\n",
              "      <td>NaN</td>\n",
              "    </tr>\n",
              "    <tr>\n",
              "      <th>0.15</th>\n",
              "      <td>inf</td>\n",
              "      <td>inf</td>\n",
              "      <td>NaN</td>\n",
              "    </tr>\n",
              "    <tr>\n",
              "      <th>0.20</th>\n",
              "      <td>inf</td>\n",
              "      <td>inf</td>\n",
              "      <td>NaN</td>\n",
              "    </tr>\n",
              "    <tr>\n",
              "      <th>0.25</th>\n",
              "      <td>2610.218700</td>\n",
              "      <td>inf</td>\n",
              "      <td>1_e5_b30_l1e-05</td>\n",
              "    </tr>\n",
              "    <tr>\n",
              "      <th>0.30</th>\n",
              "      <td>inf</td>\n",
              "      <td>inf</td>\n",
              "      <td>NaN</td>\n",
              "    </tr>\n",
              "    <tr>\n",
              "      <th>0.35</th>\n",
              "      <td>inf</td>\n",
              "      <td>inf</td>\n",
              "      <td>NaN</td>\n",
              "    </tr>\n",
              "    <tr>\n",
              "      <th>0.40</th>\n",
              "      <td>inf</td>\n",
              "      <td>inf</td>\n",
              "      <td>NaN</td>\n",
              "    </tr>\n",
              "    <tr>\n",
              "      <th>0.45</th>\n",
              "      <td>inf</td>\n",
              "      <td>inf</td>\n",
              "      <td>NaN</td>\n",
              "    </tr>\n",
              "    <tr>\n",
              "      <th>0.50</th>\n",
              "      <td>4212.283619</td>\n",
              "      <td>inf</td>\n",
              "      <td>1_e5_b30_l1e-05</td>\n",
              "    </tr>\n",
              "    <tr>\n",
              "      <th>0.55</th>\n",
              "      <td>inf</td>\n",
              "      <td>inf</td>\n",
              "      <td>NaN</td>\n",
              "    </tr>\n",
              "    <tr>\n",
              "      <th>0.60</th>\n",
              "      <td>inf</td>\n",
              "      <td>inf</td>\n",
              "      <td>NaN</td>\n",
              "    </tr>\n",
              "    <tr>\n",
              "      <th>0.65</th>\n",
              "      <td>inf</td>\n",
              "      <td>inf</td>\n",
              "      <td>NaN</td>\n",
              "    </tr>\n",
              "    <tr>\n",
              "      <th>0.70</th>\n",
              "      <td>inf</td>\n",
              "      <td>inf</td>\n",
              "      <td>NaN</td>\n",
              "    </tr>\n",
              "    <tr>\n",
              "      <th>0.75</th>\n",
              "      <td>3761.153106</td>\n",
              "      <td>inf</td>\n",
              "      <td>1_e5_b30_l1e-05</td>\n",
              "    </tr>\n",
              "    <tr>\n",
              "      <th>0.80</th>\n",
              "      <td>inf</td>\n",
              "      <td>inf</td>\n",
              "      <td>NaN</td>\n",
              "    </tr>\n",
              "    <tr>\n",
              "      <th>0.85</th>\n",
              "      <td>inf</td>\n",
              "      <td>inf</td>\n",
              "      <td>NaN</td>\n",
              "    </tr>\n",
              "    <tr>\n",
              "      <th>0.90</th>\n",
              "      <td>inf</td>\n",
              "      <td>inf</td>\n",
              "      <td>NaN</td>\n",
              "    </tr>\n",
              "    <tr>\n",
              "      <th>0.95</th>\n",
              "      <td>inf</td>\n",
              "      <td>inf</td>\n",
              "      <td>NaN</td>\n",
              "    </tr>\n",
              "  </tbody>\n",
              "</table>\n",
              "</div>"
            ],
            "text/plain": [
              "      cost_val_solution  cost_test_solution GAN_model_parameters\n",
              "0.05                inf                 inf                  NaN\n",
              "0.10                inf                 inf                  NaN\n",
              "0.15                inf                 inf                  NaN\n",
              "0.20                inf                 inf                  NaN\n",
              "0.25        2610.218700                 inf      1_e5_b30_l1e-05\n",
              "0.30                inf                 inf                  NaN\n",
              "0.35                inf                 inf                  NaN\n",
              "0.40                inf                 inf                  NaN\n",
              "0.45                inf                 inf                  NaN\n",
              "0.50        4212.283619                 inf      1_e5_b30_l1e-05\n",
              "0.55                inf                 inf                  NaN\n",
              "0.60                inf                 inf                  NaN\n",
              "0.65                inf                 inf                  NaN\n",
              "0.70                inf                 inf                  NaN\n",
              "0.75        3761.153106                 inf      1_e5_b30_l1e-05\n",
              "0.80                inf                 inf                  NaN\n",
              "0.85                inf                 inf                  NaN\n",
              "0.90                inf                 inf                  NaN\n",
              "0.95                inf                 inf                  NaN"
            ]
          },
          "metadata": {
            "tags": []
          },
          "execution_count": 51
        }
      ]
    },
    {
      "cell_type": "markdown",
      "metadata": {
        "id": "6jJocVtHWSjX",
        "colab_type": "text"
      },
      "source": [
        "# Full GAN newsvendor loop"
      ]
    },
    {
      "cell_type": "code",
      "metadata": {
        "id": "wH1NngjHWIi2",
        "colab_type": "code",
        "colab": {}
      },
      "source": [
        "for lr in learning_rate:\n",
        "\n",
        "  for bs in batchsize:\n",
        "\n",
        "    for e in epochs:\n",
        "\n",
        "      for i in range(1,training_repetition+1):\n",
        "        \n",
        "        p_gan = (lr,bs,e,i)\n",
        "        \n",
        "        gan = torch.load(model_path+\"ctgan_model_\"+str(i)+\"_e\"+str(e)+\"_b\"+str(bs)+\"_l\"+str(lr))\n",
        "        \n",
        "        print('sample')\n",
        "        sample_sc = gan.sample(1000000, seed=0)\n",
        "        sample = pd.DataFrame(scaler.inverse_transform(sample_sc), columns=sample_sc.columns)\n",
        "        \n",
        "        print('finished')\n",
        "        X = sample.drop(columns=[demand])\n",
        "        Y = sample[demand]\n",
        "        \n",
        "        X_train_gan, X_val_gan, Y_train_gan, Y_val_gan = train_test_split(X, Y, test_size=0.2, random_state=99)\n",
        "                \n",
        "        pool_function = partial(ERM_cost, p_gan, X_train_gan, Y_train_gan, X_val, Y_val)\n",
        "\n",
        "        print('open pool')\n",
        "        agents = mp.cpu_count()\n",
        "        pool = mp.Pool(agents)\n",
        "        \n",
        "        pool_output = pool.map(pool_function, service_levels)\n",
        "\n",
        "        pool.close()\n",
        "\n",
        "        pool_output = dict(pool_output)\n",
        "        \n",
        "        for sl in service_levels:\n",
        "      \n",
        "          val_cost = pool_output.get(sl)[0]\n",
        "          parameters = pool_output.get(sl)[1]\n",
        "          \n",
        "          if val_cost < result.loc[sl,'cost_val_solution']:\n",
        "                \n",
        "            result.loc[sl,'cost_val_solution'] = val_cost\n",
        "            result.loc[sl, 'GAN_model_parameters'] = parameters\n",
        "            print('test')\n"
      ],
      "execution_count": null,
      "outputs": []
    }
  ]
}